{
 "cells": [
  {
   "cell_type": "code",
   "execution_count": 1,
   "id": "7335c4dc-940c-465a-9dc4-12cb72b713ef",
   "metadata": {},
   "outputs": [],
   "source": [
    "import pandas as pd\n",
    "import matplotlib.pyplot as plt\n",
    "import numpy as np"
   ]
  },
  {
   "cell_type": "code",
   "execution_count": 2,
   "id": "ec137e4f-89cf-4682-8f1c-08e41583e68b",
   "metadata": {},
   "outputs": [
    {
     "data": {
      "text/html": [
       "<div>\n",
       "<style scoped>\n",
       "    .dataframe tbody tr th:only-of-type {\n",
       "        vertical-align: middle;\n",
       "    }\n",
       "\n",
       "    .dataframe tbody tr th {\n",
       "        vertical-align: top;\n",
       "    }\n",
       "\n",
       "    .dataframe thead th {\n",
       "        text-align: right;\n",
       "    }\n",
       "</style>\n",
       "<table border=\"1\" class=\"dataframe\">\n",
       "  <thead>\n",
       "    <tr style=\"text-align: right;\">\n",
       "      <th></th>\n",
       "      <th>cust_id</th>\n",
       "      <th>gender</th>\n",
       "      <th>age</th>\n",
       "      <th>no_of_purchases</th>\n",
       "      <th>amount_spend</th>\n",
       "      <th>time_spent_on_site</th>\n",
       "      <th>cross_sell_conversion_rate</th>\n",
       "    </tr>\n",
       "  </thead>\n",
       "  <tbody>\n",
       "    <tr>\n",
       "      <th>0</th>\n",
       "      <td>C0001</td>\n",
       "      <td>Male</td>\n",
       "      <td>36</td>\n",
       "      <td>4</td>\n",
       "      <td>400</td>\n",
       "      <td>41.02</td>\n",
       "      <td>0.597870</td>\n",
       "    </tr>\n",
       "    <tr>\n",
       "      <th>1</th>\n",
       "      <td>C0002</td>\n",
       "      <td>Male</td>\n",
       "      <td>42</td>\n",
       "      <td>4</td>\n",
       "      <td>360</td>\n",
       "      <td>49.42</td>\n",
       "      <td>0.087063</td>\n",
       "    </tr>\n",
       "    <tr>\n",
       "      <th>2</th>\n",
       "      <td>C0003</td>\n",
       "      <td>Male</td>\n",
       "      <td>40</td>\n",
       "      <td>2</td>\n",
       "      <td>60</td>\n",
       "      <td>35.78</td>\n",
       "      <td>0.441260</td>\n",
       "    </tr>\n",
       "    <tr>\n",
       "      <th>3</th>\n",
       "      <td>C0004</td>\n",
       "      <td>Female</td>\n",
       "      <td>33</td>\n",
       "      <td>3</td>\n",
       "      <td>240</td>\n",
       "      <td>39.17</td>\n",
       "      <td>0.553303</td>\n",
       "    </tr>\n",
       "    <tr>\n",
       "      <th>4</th>\n",
       "      <td>C0005</td>\n",
       "      <td>Male</td>\n",
       "      <td>24</td>\n",
       "      <td>6</td>\n",
       "      <td>120</td>\n",
       "      <td>63.42</td>\n",
       "      <td>0.860697</td>\n",
       "    </tr>\n",
       "  </tbody>\n",
       "</table>\n",
       "</div>"
      ],
      "text/plain": [
       "  cust_id  gender  age  no_of_purchases  amount_spend  time_spent_on_site  \\\n",
       "0   C0001    Male   36                4           400               41.02   \n",
       "1   C0002    Male   42                4           360               49.42   \n",
       "2   C0003    Male   40                2            60               35.78   \n",
       "3   C0004  Female   33                3           240               39.17   \n",
       "4   C0005    Male   24                6           120               63.42   \n",
       "\n",
       "   cross_sell_conversion_rate  \n",
       "0                    0.597870  \n",
       "1                    0.087063  \n",
       "2                    0.441260  \n",
       "3                    0.553303  \n",
       "4                    0.860697  "
      ]
     },
     "execution_count": 2,
     "metadata": {},
     "output_type": "execute_result"
    }
   ],
   "source": [
    "df = pd.read_csv('ecommerce_data.csv')\n",
    "df.head()"
   ]
  },
  {
   "cell_type": "markdown",
   "id": "9513e0e8-9907-40f3-bd27-d7bf6828966d",
   "metadata": {},
   "source": [
    "## **Q1**"
   ]
  },
  {
   "cell_type": "code",
   "execution_count": 3,
   "id": "1d467f85-5df8-4e16-a300-9fa03c047b8c",
   "metadata": {},
   "outputs": [
    {
     "name": "stdout",
     "output_type": "stream",
     "text": [
      "The age range of customers in the dataset: 47\n"
     ]
    }
   ],
   "source": [
    "min_age = df['age'].min()\n",
    "max_age = df['age'].max()\n",
    "\n",
    "age_range = max_age - min_age\n",
    "print('The age range of customers in the dataset:',age_range)"
   ]
  },
  {
   "cell_type": "markdown",
   "id": "4ac2122d-0049-4385-b1f3-e80e8e314056",
   "metadata": {},
   "source": [
    "## **Q2**"
   ]
  },
  {
   "cell_type": "code",
   "execution_count": 4,
   "id": "49042148-1c57-4048-9b93-f8c6777944c9",
   "metadata": {},
   "outputs": [
    {
     "data": {
      "text/html": [
       "<div>\n",
       "<style scoped>\n",
       "    .dataframe tbody tr th:only-of-type {\n",
       "        vertical-align: middle;\n",
       "    }\n",
       "\n",
       "    .dataframe tbody tr th {\n",
       "        vertical-align: top;\n",
       "    }\n",
       "\n",
       "    .dataframe thead th {\n",
       "        text-align: right;\n",
       "    }\n",
       "</style>\n",
       "<table border=\"1\" class=\"dataframe\">\n",
       "  <thead>\n",
       "    <tr style=\"text-align: right;\">\n",
       "      <th></th>\n",
       "      <th>age</th>\n",
       "      <th>no_of_purchases</th>\n",
       "      <th>amount_spend</th>\n",
       "      <th>time_spent_on_site</th>\n",
       "      <th>cross_sell_conversion_rate</th>\n",
       "    </tr>\n",
       "  </thead>\n",
       "  <tbody>\n",
       "    <tr>\n",
       "      <th>count</th>\n",
       "      <td>1000.000000</td>\n",
       "      <td>1000.000000</td>\n",
       "      <td>1000.000000</td>\n",
       "      <td>1000.000000</td>\n",
       "      <td>1000.000000</td>\n",
       "    </tr>\n",
       "    <tr>\n",
       "      <th>mean</th>\n",
       "      <td>33.418000</td>\n",
       "      <td>4.053000</td>\n",
       "      <td>238.230000</td>\n",
       "      <td>45.171110</td>\n",
       "      <td>0.428629</td>\n",
       "    </tr>\n",
       "    <tr>\n",
       "      <th>std</th>\n",
       "      <td>12.354186</td>\n",
       "      <td>1.965211</td>\n",
       "      <td>155.937435</td>\n",
       "      <td>16.666794</td>\n",
       "      <td>0.273603</td>\n",
       "    </tr>\n",
       "    <tr>\n",
       "      <th>min</th>\n",
       "      <td>18.000000</td>\n",
       "      <td>1.000000</td>\n",
       "      <td>20.000000</td>\n",
       "      <td>13.190000</td>\n",
       "      <td>0.000568</td>\n",
       "    </tr>\n",
       "    <tr>\n",
       "      <th>25%</th>\n",
       "      <td>23.000000</td>\n",
       "      <td>2.000000</td>\n",
       "      <td>120.000000</td>\n",
       "      <td>30.937500</td>\n",
       "      <td>0.204250</td>\n",
       "    </tr>\n",
       "    <tr>\n",
       "      <th>50%</th>\n",
       "      <td>30.000000</td>\n",
       "      <td>4.000000</td>\n",
       "      <td>200.000000</td>\n",
       "      <td>44.635000</td>\n",
       "      <td>0.387122</td>\n",
       "    </tr>\n",
       "    <tr>\n",
       "      <th>75%</th>\n",
       "      <td>41.000000</td>\n",
       "      <td>6.000000</td>\n",
       "      <td>320.000000</td>\n",
       "      <td>56.352500</td>\n",
       "      <td>0.605406</td>\n",
       "    </tr>\n",
       "    <tr>\n",
       "      <th>max</th>\n",
       "      <td>65.000000</td>\n",
       "      <td>8.000000</td>\n",
       "      <td>800.000000</td>\n",
       "      <td>92.530000</td>\n",
       "      <td>0.996979</td>\n",
       "    </tr>\n",
       "  </tbody>\n",
       "</table>\n",
       "</div>"
      ],
      "text/plain": [
       "               age  no_of_purchases  amount_spend  time_spent_on_site  \\\n",
       "count  1000.000000      1000.000000   1000.000000         1000.000000   \n",
       "mean     33.418000         4.053000    238.230000           45.171110   \n",
       "std      12.354186         1.965211    155.937435           16.666794   \n",
       "min      18.000000         1.000000     20.000000           13.190000   \n",
       "25%      23.000000         2.000000    120.000000           30.937500   \n",
       "50%      30.000000         4.000000    200.000000           44.635000   \n",
       "75%      41.000000         6.000000    320.000000           56.352500   \n",
       "max      65.000000         8.000000    800.000000           92.530000   \n",
       "\n",
       "       cross_sell_conversion_rate  \n",
       "count                 1000.000000  \n",
       "mean                     0.428629  \n",
       "std                      0.273603  \n",
       "min                      0.000568  \n",
       "25%                      0.204250  \n",
       "50%                      0.387122  \n",
       "75%                      0.605406  \n",
       "max                      0.996979  "
      ]
     },
     "execution_count": 4,
     "metadata": {},
     "output_type": "execute_result"
    }
   ],
   "source": [
    "df.describe()"
   ]
  },
  {
   "cell_type": "code",
   "execution_count": 5,
   "id": "a4783805-cd04-410d-86cb-f009be9a9437",
   "metadata": {},
   "outputs": [
    {
     "name": "stdout",
     "output_type": "stream",
     "text": [
      "Mean amount spent by the customers: 238.23\n",
      "Median amount spent by the customers: 200.0\n",
      "Mode amount spent by the customers: 240\n"
     ]
    }
   ],
   "source": [
    "mean_amt = df.amount_spend.mean()\n",
    "median_amt = df.amount_spend.median()\n",
    "mode_amt = df.amount_spend.mode()\n",
    "\n",
    "print('Mean amount spent by the customers:',mean_amt)\n",
    "print('Median amount spent by the customers:',median_amt)\n",
    "print('Mode amount spent by the customers:',mode_amt[0])"
   ]
  },
  {
   "cell_type": "markdown",
   "id": "ec56ccb7-c816-4925-a127-65f5ef1b86df",
   "metadata": {},
   "source": [
    "## **Q3**"
   ]
  },
  {
   "cell_type": "code",
   "execution_count": 6,
   "id": "c4a5122c-5bf7-4fa0-8f1b-c1b7cd0c7cf1",
   "metadata": {},
   "outputs": [
    {
     "name": "stdout",
     "output_type": "stream",
     "text": [
      "Variance of time spent on the site: 277.78\n",
      "Standard deviation of time spent on the site 16.67\n"
     ]
    }
   ],
   "source": [
    "var_time = df['time_spent_on_site'].var()\n",
    "std_time = df['time_spent_on_site'].std()\n",
    "\n",
    "print('Variance of time spent on the site:', np.round(var_time,2))\n",
    "print('Standard deviation of time spent on the site', np.round(std_time,2))"
   ]
  },
  {
   "cell_type": "markdown",
   "id": "7ec96771-5412-4441-b84c-7c53f1961cd7",
   "metadata": {},
   "source": [
    "## **Q4**"
   ]
  },
  {
   "cell_type": "code",
   "execution_count": 7,
   "id": "c3dcb4e1-9887-4b02-88e3-441cf38ff0e2",
   "metadata": {},
   "outputs": [
    {
     "name": "stdout",
     "output_type": "stream",
     "text": [
      "Interquartile range for the amount spent by the customers: 200.0\n"
     ]
    }
   ],
   "source": [
    "q1 = df.amount_spend.quantile(0.25)\n",
    "q3 = df.amount_spend.quantile(0.75)\n",
    "\n",
    "iqr = q3 - q1\n",
    "print('Interquartile range for the amount spent by the customers:', iqr)"
   ]
  },
  {
   "cell_type": "markdown",
   "id": "23e7ec6a-6b24-4b59-9390-6348dfc04700",
   "metadata": {},
   "source": [
    "## **Q5**"
   ]
  },
  {
   "cell_type": "code",
   "execution_count": 8,
   "id": "451863f9-0e3a-4c69-b3f4-ec62025bec59",
   "metadata": {},
   "outputs": [
    {
     "data": {
      "text/html": [
       "<div>\n",
       "<style scoped>\n",
       "    .dataframe tbody tr th:only-of-type {\n",
       "        vertical-align: middle;\n",
       "    }\n",
       "\n",
       "    .dataframe tbody tr th {\n",
       "        vertical-align: top;\n",
       "    }\n",
       "\n",
       "    .dataframe thead th {\n",
       "        text-align: right;\n",
       "    }\n",
       "</style>\n",
       "<table border=\"1\" class=\"dataframe\">\n",
       "  <thead>\n",
       "    <tr style=\"text-align: right;\">\n",
       "      <th></th>\n",
       "      <th>age</th>\n",
       "      <th>no_of_purchases</th>\n",
       "      <th>amount_spend</th>\n",
       "      <th>time_spent_on_site</th>\n",
       "      <th>cross_sell_conversion_rate</th>\n",
       "    </tr>\n",
       "  </thead>\n",
       "  <tbody>\n",
       "    <tr>\n",
       "      <th>age</th>\n",
       "      <td>1.000000</td>\n",
       "      <td>-0.783331</td>\n",
       "      <td>-0.549364</td>\n",
       "      <td>-0.736895</td>\n",
       "      <td>-0.394860</td>\n",
       "    </tr>\n",
       "    <tr>\n",
       "      <th>no_of_purchases</th>\n",
       "      <td>-0.783331</td>\n",
       "      <td>1.000000</td>\n",
       "      <td>0.651472</td>\n",
       "      <td>0.937617</td>\n",
       "      <td>0.667435</td>\n",
       "    </tr>\n",
       "    <tr>\n",
       "      <th>amount_spend</th>\n",
       "      <td>-0.549364</td>\n",
       "      <td>0.651472</td>\n",
       "      <td>1.000000</td>\n",
       "      <td>0.602786</td>\n",
       "      <td>0.422893</td>\n",
       "    </tr>\n",
       "    <tr>\n",
       "      <th>time_spent_on_site</th>\n",
       "      <td>-0.736895</td>\n",
       "      <td>0.937617</td>\n",
       "      <td>0.602786</td>\n",
       "      <td>1.000000</td>\n",
       "      <td>0.631063</td>\n",
       "    </tr>\n",
       "    <tr>\n",
       "      <th>cross_sell_conversion_rate</th>\n",
       "      <td>-0.394860</td>\n",
       "      <td>0.667435</td>\n",
       "      <td>0.422893</td>\n",
       "      <td>0.631063</td>\n",
       "      <td>1.000000</td>\n",
       "    </tr>\n",
       "  </tbody>\n",
       "</table>\n",
       "</div>"
      ],
      "text/plain": [
       "                                 age  no_of_purchases  amount_spend  \\\n",
       "age                         1.000000        -0.783331     -0.549364   \n",
       "no_of_purchases            -0.783331         1.000000      0.651472   \n",
       "amount_spend               -0.549364         0.651472      1.000000   \n",
       "time_spent_on_site         -0.736895         0.937617      0.602786   \n",
       "cross_sell_conversion_rate -0.394860         0.667435      0.422893   \n",
       "\n",
       "                            time_spent_on_site  cross_sell_conversion_rate  \n",
       "age                                  -0.736895                   -0.394860  \n",
       "no_of_purchases                       0.937617                    0.667435  \n",
       "amount_spend                          0.602786                    0.422893  \n",
       "time_spent_on_site                    1.000000                    0.631063  \n",
       "cross_sell_conversion_rate            0.631063                    1.000000  "
      ]
     },
     "execution_count": 8,
     "metadata": {},
     "output_type": "execute_result"
    }
   ],
   "source": [
    "corr = df.corr(numeric_only=True)\n",
    "\n",
    "corr"
   ]
  },
  {
   "cell_type": "code",
   "execution_count": 9,
   "id": "05df0137-7981-4c1e-8f2d-7f3e1483d9d7",
   "metadata": {},
   "outputs": [
    {
     "data": {
      "image/png": "[encoded data removed]",
      "text/plain": [
       "<Figure size 640x480 with 2 Axes>"
      ]
     },
     "metadata": {},
     "output_type": "display_data"
    }
   ],
   "source": [
    "import seaborn as sns\n",
    "\n",
    "sns.heatmap(corr, annot=True);"
   ]
  },
  {
   "cell_type": "markdown",
   "id": "501b1a46-c134-487f-9c94-84edf54dc452",
   "metadata": {},
   "source": [
    "## **Q6**"
   ]
  },
  {
   "cell_type": "code",
   "execution_count": 10,
   "id": "5aa435b7-68c2-49c2-b90c-6918ff609cc6",
   "metadata": {},
   "outputs": [
    {
     "data": {
      "text/html": [
       "<div>\n",
       "<style scoped>\n",
       "    .dataframe tbody tr th:only-of-type {\n",
       "        vertical-align: middle;\n",
       "    }\n",
       "\n",
       "    .dataframe tbody tr th {\n",
       "        vertical-align: top;\n",
       "    }\n",
       "\n",
       "    .dataframe thead th {\n",
       "        text-align: right;\n",
       "    }\n",
       "</style>\n",
       "<table border=\"1\" class=\"dataframe\">\n",
       "  <thead>\n",
       "    <tr style=\"text-align: right;\">\n",
       "      <th></th>\n",
       "      <th>cust_id</th>\n",
       "      <th>gender</th>\n",
       "      <th>age</th>\n",
       "      <th>no_of_purchases</th>\n",
       "      <th>amount_spend</th>\n",
       "      <th>time_spent_on_site</th>\n",
       "      <th>cross_sell_conversion_rate</th>\n",
       "    </tr>\n",
       "  </thead>\n",
       "  <tbody>\n",
       "    <tr>\n",
       "      <th>0</th>\n",
       "      <td>C0001</td>\n",
       "      <td>Male</td>\n",
       "      <td>36</td>\n",
       "      <td>4</td>\n",
       "      <td>400</td>\n",
       "      <td>41.02</td>\n",
       "      <td>0.597870</td>\n",
       "    </tr>\n",
       "    <tr>\n",
       "      <th>1</th>\n",
       "      <td>C0002</td>\n",
       "      <td>Male</td>\n",
       "      <td>42</td>\n",
       "      <td>4</td>\n",
       "      <td>360</td>\n",
       "      <td>49.42</td>\n",
       "      <td>0.087063</td>\n",
       "    </tr>\n",
       "    <tr>\n",
       "      <th>2</th>\n",
       "      <td>C0003</td>\n",
       "      <td>Male</td>\n",
       "      <td>40</td>\n",
       "      <td>2</td>\n",
       "      <td>60</td>\n",
       "      <td>35.78</td>\n",
       "      <td>0.441260</td>\n",
       "    </tr>\n",
       "    <tr>\n",
       "      <th>3</th>\n",
       "      <td>C0004</td>\n",
       "      <td>Female</td>\n",
       "      <td>33</td>\n",
       "      <td>3</td>\n",
       "      <td>240</td>\n",
       "      <td>39.17</td>\n",
       "      <td>0.553303</td>\n",
       "    </tr>\n",
       "    <tr>\n",
       "      <th>4</th>\n",
       "      <td>C0005</td>\n",
       "      <td>Male</td>\n",
       "      <td>24</td>\n",
       "      <td>6</td>\n",
       "      <td>120</td>\n",
       "      <td>63.42</td>\n",
       "      <td>0.860697</td>\n",
       "    </tr>\n",
       "  </tbody>\n",
       "</table>\n",
       "</div>"
      ],
      "text/plain": [
       "  cust_id  gender  age  no_of_purchases  amount_spend  time_spent_on_site  \\\n",
       "0   C0001    Male   36                4           400               41.02   \n",
       "1   C0002    Male   42                4           360               49.42   \n",
       "2   C0003    Male   40                2            60               35.78   \n",
       "3   C0004  Female   33                3           240               39.17   \n",
       "4   C0005    Male   24                6           120               63.42   \n",
       "\n",
       "   cross_sell_conversion_rate  \n",
       "0                    0.597870  \n",
       "1                    0.087063  \n",
       "2                    0.441260  \n",
       "3                    0.553303  \n",
       "4                    0.860697  "
      ]
     },
     "execution_count": 10,
     "metadata": {},
     "output_type": "execute_result"
    }
   ],
   "source": [
    "df.head()"
   ]
  },
  {
   "cell_type": "code",
   "execution_count": 11,
   "id": "96c80001-85f0-43b4-abd2-82b1d8c03d46",
   "metadata": {},
   "outputs": [
    {
     "data": {
      "text/plain": [
       "np.float64(238.23)"
      ]
     },
     "execution_count": 11,
     "metadata": {},
     "output_type": "execute_result"
    }
   ],
   "source": [
    "mean_amt"
   ]
  },
  {
   "cell_type": "code",
   "execution_count": 12,
   "id": "29e27042-44bc-45d4-b368-ba6bc651dfeb",
   "metadata": {},
   "outputs": [
    {
     "data": {
      "text/plain": [
       "np.float64(155.93743483712814)"
      ]
     },
     "execution_count": 12,
     "metadata": {},
     "output_type": "execute_result"
    }
   ],
   "source": [
    "std_amt = df['amount_spend'].std()\n",
    "std_amt"
   ]
  },
  {
   "cell_type": "code",
   "execution_count": 13,
   "id": "3102093f-254f-44c1-93f5-c829053b7f22",
   "metadata": {},
   "outputs": [
    {
     "name": "stdout",
     "output_type": "stream",
     "text": [
      "Z-Score for customer spending $450 on the website: 1.36\n"
     ]
    }
   ],
   "source": [
    "# Z-Score for customer spending $450 on the website\n",
    "z_score = (450 - 238.23)/155.93\n",
    "print('Z-Score for customer spending $450 on the website:', np.round(z_score,2))"
   ]
  },
  {
   "cell_type": "markdown",
   "id": "595767e5-e60c-433e-96c1-1826c4f63127",
   "metadata": {},
   "source": [
    "## **Q7**"
   ]
  },
  {
   "cell_type": "code",
   "execution_count": 14,
   "id": "9b97a6ec-c719-47b7-967e-ca46ecba7a7d",
   "metadata": {},
   "outputs": [
    {
     "data": {
      "image/png": "[encoded data removed]",
      "text/plain": [
       "<Figure size 640x480 with 1 Axes>"
      ]
     },
     "metadata": {},
     "output_type": "display_data"
    }
   ],
   "source": [
    "sns.histplot(df, x='amount_spend', kde=True);"
   ]
  },
  {
   "cell_type": "code",
   "execution_count": 15,
   "id": "b141fcf7-1f5c-4ab0-a021-07b3f2c0c408",
   "metadata": {},
   "outputs": [
    {
     "name": "stdout",
     "output_type": "stream",
     "text": [
      "Requirement already satisfied: scipy in c:\\users\\maazs\\appdata\\local\\programs\\python\\python312\\lib\\site-packages (1.14.1)\n",
      "Requirement already satisfied: numpy<2.3,>=1.23.5 in c:\\users\\maazs\\appdata\\local\\programs\\python\\python312\\lib\\site-packages (from scipy) (2.1.3)\n"
     ]
    },
    {
     "name": "stderr",
     "output_type": "stream",
     "text": [
      "\n",
      "[notice] A new release of pip is available: 24.2 -> 24.3.1\n",
      "[notice] To update, run: python.exe -m pip install --upgrade pip\n"
     ]
    }
   ],
   "source": [
    "!pip install scipy"
   ]
  },
  {
   "cell_type": "code",
   "execution_count": 16,
   "id": "fbb84c43-5711-4aca-a834-428cf59bc031",
   "metadata": {},
   "outputs": [
    {
     "name": "stdout",
     "output_type": "stream",
     "text": [
      "Skewness of amount spend: 0.96\n"
     ]
    }
   ],
   "source": [
    "import scipy\n",
    "\n",
    "skew = scipy.stats.skew(df['amount_spend'])\n",
    "print('Skewness of amount spend:',np.round(skew,2))"
   ]
  },
  {
   "cell_type": "markdown",
   "id": "b33b1c33-9368-4c28-8e09-c3d3b909723d",
   "metadata": {},
   "source": [
    "## **Q8**"
   ]
  },
  {
   "cell_type": "code",
   "execution_count": 17,
   "id": "0e9778bc-05ba-46a9-8775-3e4cf3d193aa",
   "metadata": {},
   "outputs": [
    {
     "data": {
      "text/html": [
       "<div>\n",
       "<style scoped>\n",
       "    .dataframe tbody tr th:only-of-type {\n",
       "        vertical-align: middle;\n",
       "    }\n",
       "\n",
       "    .dataframe tbody tr th {\n",
       "        vertical-align: top;\n",
       "    }\n",
       "\n",
       "    .dataframe thead th {\n",
       "        text-align: right;\n",
       "    }\n",
       "</style>\n",
       "<table border=\"1\" class=\"dataframe\">\n",
       "  <thead>\n",
       "    <tr style=\"text-align: right;\">\n",
       "      <th></th>\n",
       "      <th>cust_id</th>\n",
       "      <th>gender</th>\n",
       "      <th>age</th>\n",
       "      <th>no_of_purchases</th>\n",
       "      <th>amount_spend</th>\n",
       "      <th>time_spent_on_site</th>\n",
       "      <th>cross_sell_conversion_rate</th>\n",
       "    </tr>\n",
       "  </thead>\n",
       "  <tbody>\n",
       "    <tr>\n",
       "      <th>0</th>\n",
       "      <td>C0001</td>\n",
       "      <td>Male</td>\n",
       "      <td>36</td>\n",
       "      <td>4</td>\n",
       "      <td>400</td>\n",
       "      <td>41.02</td>\n",
       "      <td>0.597870</td>\n",
       "    </tr>\n",
       "    <tr>\n",
       "      <th>1</th>\n",
       "      <td>C0002</td>\n",
       "      <td>Male</td>\n",
       "      <td>42</td>\n",
       "      <td>4</td>\n",
       "      <td>360</td>\n",
       "      <td>49.42</td>\n",
       "      <td>0.087063</td>\n",
       "    </tr>\n",
       "    <tr>\n",
       "      <th>2</th>\n",
       "      <td>C0003</td>\n",
       "      <td>Male</td>\n",
       "      <td>40</td>\n",
       "      <td>2</td>\n",
       "      <td>60</td>\n",
       "      <td>35.78</td>\n",
       "      <td>0.441260</td>\n",
       "    </tr>\n",
       "    <tr>\n",
       "      <th>3</th>\n",
       "      <td>C0004</td>\n",
       "      <td>Female</td>\n",
       "      <td>33</td>\n",
       "      <td>3</td>\n",
       "      <td>240</td>\n",
       "      <td>39.17</td>\n",
       "      <td>0.553303</td>\n",
       "    </tr>\n",
       "    <tr>\n",
       "      <th>4</th>\n",
       "      <td>C0005</td>\n",
       "      <td>Male</td>\n",
       "      <td>24</td>\n",
       "      <td>6</td>\n",
       "      <td>120</td>\n",
       "      <td>63.42</td>\n",
       "      <td>0.860697</td>\n",
       "    </tr>\n",
       "  </tbody>\n",
       "</table>\n",
       "</div>"
      ],
      "text/plain": [
       "  cust_id  gender  age  no_of_purchases  amount_spend  time_spent_on_site  \\\n",
       "0   C0001    Male   36                4           400               41.02   \n",
       "1   C0002    Male   42                4           360               49.42   \n",
       "2   C0003    Male   40                2            60               35.78   \n",
       "3   C0004  Female   33                3           240               39.17   \n",
       "4   C0005    Male   24                6           120               63.42   \n",
       "\n",
       "   cross_sell_conversion_rate  \n",
       "0                    0.597870  \n",
       "1                    0.087063  \n",
       "2                    0.441260  \n",
       "3                    0.553303  \n",
       "4                    0.860697  "
      ]
     },
     "execution_count": 17,
     "metadata": {},
     "output_type": "execute_result"
    }
   ],
   "source": [
    "df.head()"
   ]
  },
  {
   "cell_type": "code",
   "execution_count": 18,
   "id": "99e9267f-6eef-41f4-8e9c-1e4fc51e6866",
   "metadata": {},
   "outputs": [
    {
     "data": {
      "text/plain": [
       "np.int64(4053)"
      ]
     },
     "execution_count": 18,
     "metadata": {},
     "output_type": "execute_result"
    }
   ],
   "source": [
    "total_purchases = df['no_of_purchases'].sum()\n",
    "total_purchases"
   ]
  },
  {
   "cell_type": "code",
   "execution_count": 19,
   "id": "3e4ec18b-d490-4083-a5ba-cbf14a0033eb",
   "metadata": {},
   "outputs": [
    {
     "data": {
      "text/plain": [
       "0      False\n",
       "1      False\n",
       "2      False\n",
       "3      False\n",
       "4       True\n",
       "       ...  \n",
       "995     True\n",
       "996    False\n",
       "997    False\n",
       "998    False\n",
       "999    False\n",
       "Name: no_of_purchases, Length: 1000, dtype: bool"
      ]
     },
     "execution_count": 19,
     "metadata": {},
     "output_type": "execute_result"
    }
   ],
   "source": [
    "more_than_5_purchases = df['no_of_purchases'] > 5 # boolean indexing for whole dataset\n",
    "more_than_5_purchases"
   ]
  },
  {
   "cell_type": "code",
   "execution_count": 20,
   "id": "764de01f-5b01-43e4-a61a-0e2c7bc5a5af",
   "metadata": {},
   "outputs": [
    {
     "name": "stdout",
     "output_type": "stream",
     "text": [
      "Probability of a person making more than 5 purchases: 0.255\n"
     ]
    }
   ],
   "source": [
    "P_A = more_than_5_purchases.mean()\n",
    "print('Probability of a person making more than 5 purchases:',P_A)"
   ]
  },
  {
   "cell_type": "code",
   "execution_count": 21,
   "id": "0f3dfca4-ced4-4ddc-bc1b-541d3e1a3764",
   "metadata": {},
   "outputs": [
    {
     "data": {
      "text/plain": [
       "0       True\n",
       "1       True\n",
       "2      False\n",
       "3      False\n",
       "4      False\n",
       "       ...  \n",
       "995    False\n",
       "996    False\n",
       "997    False\n",
       "998     True\n",
       "999    False\n",
       "Name: amount_spend, Length: 1000, dtype: bool"
      ]
     },
     "execution_count": 21,
     "metadata": {},
     "output_type": "execute_result"
    }
   ],
   "source": [
    "more_than_300_dollars = df['amount_spend'] > 300\n",
    "more_than_300_dollars"
   ]
  },
  {
   "cell_type": "code",
   "execution_count": 22,
   "id": "3bc6e148-2b17-44c1-a153-93897182ae49",
   "metadata": {},
   "outputs": [
    {
     "name": "stdout",
     "output_type": "stream",
     "text": [
      "Probability of a customer spending more than 300$: 0.28\n"
     ]
    }
   ],
   "source": [
    "P_B = more_than_300_dollars.mean()\n",
    "print('Probability of a customer spending more than 300$:', P_B)"
   ]
  },
  {
   "cell_type": "code",
   "execution_count": 23,
   "id": "e841164a-0043-4380-8e06-c9f42ef556b7",
   "metadata": {},
   "outputs": [
    {
     "data": {
      "text/plain": [
       "0      False\n",
       "1      False\n",
       "2      False\n",
       "3      False\n",
       "4      False\n",
       "       ...  \n",
       "995    False\n",
       "996    False\n",
       "997    False\n",
       "998    False\n",
       "999    False\n",
       "Length: 1000, dtype: bool"
      ]
     },
     "execution_count": 23,
     "metadata": {},
     "output_type": "execute_result"
    }
   ],
   "source": [
    "more_than_5_and_300 = (df['no_of_purchases'] > 5) & (df['amount_spend'] > 300)\n",
    "more_than_5_and_300\n"
   ]
  },
  {
   "cell_type": "code",
   "execution_count": 24,
   "id": "0367fd1e-a7b6-4a83-a79c-feee8a12fd2b",
   "metadata": {},
   "outputs": [
    {
     "name": "stdout",
     "output_type": "stream",
     "text": [
      "Probability of a customer making more than 5 purchases and spending more than 300$: 0.139\n"
     ]
    }
   ],
   "source": [
    "P_A_and_B = more_than_5_and_300.mean()\n",
    "print('Probability of a customer making more than 5 purchases and spending more than 300$:',P_A_and_B)"
   ]
  },
  {
   "cell_type": "code",
   "execution_count": 25,
   "id": "ab256dd6-2291-45db-9513-69bc45498399",
   "metadata": {},
   "outputs": [
    {
     "name": "stdout",
     "output_type": "stream",
     "text": [
      "Probability that a randomly selected customer makes more than 5 purchases in a month or spends more than $300: 0.396\n"
     ]
    }
   ],
   "source": [
    "P_A_or_B = P_A + P_B - P_A_and_B\n",
    "print('Probability that a randomly selected customer makes more than 5 purchases in a month or spends more than $300:', P_A_or_B)"
   ]
  },
  {
   "cell_type": "markdown",
   "id": "ccfc0cc1-08a3-495f-b3ad-eac1b2622afe",
   "metadata": {},
   "source": [
    "## **Q9**"
   ]
  },
  {
   "cell_type": "code",
   "execution_count": 26,
   "id": "4eb2f36a-44ac-451c-a195-ef83ca67884a",
   "metadata": {},
   "outputs": [
    {
     "name": "stdout",
     "output_type": "stream",
     "text": [
      "Sample mean: 238.23\n",
      "Sample standard deviation (standard error): 4.931174665694127\n"
     ]
    }
   ],
   "source": [
    "df_mean = df['amount_spend'].mean() # considering our dataset as sample of the population\n",
    "df_std = df['amount_spend'].std()\n",
    "df_std_sample = (df_std)/np.sqrt(1000)\n",
    "\n",
    "print('Sample mean:',df_mean)\n",
    "print('Sample standard deviation (standard error):',df_std_sample)"
   ]
  },
  {
   "cell_type": "code",
   "execution_count": 27,
   "id": "315118d9-c957-4e16-aec1-b463f3570490",
   "metadata": {},
   "outputs": [
    {
     "data": {
      "text/plain": [
       "np.float64(238.0)"
      ]
     },
     "execution_count": 27,
     "metadata": {},
     "output_type": "execute_result"
    }
   ],
   "source": [
    "np.round(df_mean,0)"
   ]
  },
  {
   "cell_type": "markdown",
   "id": "645e3727-4b07-4fb9-85bd-9a79da193871",
   "metadata": {},
   "source": [
    "##  **95% conf interval means zscore of 1.96**\n",
    "## **mu = xbar +- z * std(of sample)**"
   ]
  },
  {
   "cell_type": "code",
   "execution_count": 28,
   "id": "a90db6f5-69a6-49b6-a877-aee62d5ac287",
   "metadata": {},
   "outputs": [
    {
     "name": "stdout",
     "output_type": "stream",
     "text": [
      "95% confidence interval for sample mean xbar: (np.float64(228.57), np.float64(247.89))\n"
     ]
    }
   ],
   "source": [
    "upper_bound = df_mean + (1.96 * (np.round(df_std_sample,2)))\n",
    "lower_bound = df_mean - (1.96 * (np.round(df_std_sample,2)))\n",
    "print('95% confidence interval for sample mean xbar:', (np.round(lower_bound,2), np.round(upper_bound,2)))"
   ]
  },
  {
   "cell_type": "code",
   "execution_count": 29,
   "id": "27679c6e-69bb-41bf-9c42-21952150c63a",
   "metadata": {},
   "outputs": [
    {
     "data": {
      "text/plain": [
       "1000"
      ]
     },
     "execution_count": 29,
     "metadata": {},
     "output_type": "execute_result"
    }
   ],
   "source": [
    "len(df)"
   ]
  },
  {
   "cell_type": "code",
   "execution_count": 30,
   "id": "70eeb57f-9cda-443e-9c26-d5ebaf563fe5",
   "metadata": {},
   "outputs": [
    {
     "name": "stdout",
     "output_type": "stream",
     "text": [
      "95% confidence interval for population mean: (np.float64(228.57), np.float64(247.89))\n"
     ]
    }
   ],
   "source": [
    "import scipy.stats as st\n",
    "z_score_95_confidence = st.norm.ppf(0.975) # enter cu prob = 95% + 2.5% left tail\n",
    "\n",
    "df_mean = df['amount_spend'].mean() # considering our dataset as sample of the population\n",
    "df_std = df['amount_spend'].std()\n",
    "std_error = (df_std)/np.sqrt(1000)\n",
    "margin_of_error = z_score_95_confidence * std_error\n",
    "\n",
    "lower_bound = df_mean - margin_of_error\n",
    "upper_bound = df_mean + margin_of_error\n",
    "print('95% confidence interval for population mean:', (np.round(lower_bound,2), np.round(upper_bound,2)))"
   ]
  },
  {
   "cell_type": "code",
   "execution_count": 31,
   "id": "1c44feee-2753-4a01-a263-d8cd8a35a2c8",
   "metadata": {},
   "outputs": [
    {
     "data": {
      "text/plain": [
       "cust_id                       0\n",
       "gender                        0\n",
       "age                           0\n",
       "no_of_purchases               0\n",
       "amount_spend                  0\n",
       "time_spent_on_site            0\n",
       "cross_sell_conversion_rate    0\n",
       "dtype: int64"
      ]
     },
     "execution_count": 31,
     "metadata": {},
     "output_type": "execute_result"
    }
   ],
   "source": [
    "df.isna().sum()"
   ]
  },
  {
   "cell_type": "code",
   "execution_count": 33,
   "id": "d02c0042-bc3e-4c42-a556-34ae84f059f5",
   "metadata": {},
   "outputs": [
    {
     "data": {
      "text/plain": [
       "np.int64(0)"
      ]
     },
     "execution_count": 33,
     "metadata": {},
     "output_type": "execute_result"
    }
   ],
   "source": [
    "df.duplicated().sum()"
   ]
  },
  {
   "cell_type": "code",
   "execution_count": 34,
   "id": "be0b0ccd-c3a8-4406-9684-69f30fd4db2f",
   "metadata": {},
   "outputs": [
    {
     "name": "stdout",
     "output_type": "stream",
     "text": [
      "<class 'pandas.core.frame.DataFrame'>\n",
      "RangeIndex: 1000 entries, 0 to 999\n",
      "Data columns (total 7 columns):\n",
      " #   Column                      Non-Null Count  Dtype  \n",
      "---  ------                      --------------  -----  \n",
      " 0   cust_id                     1000 non-null   object \n",
      " 1   gender                      1000 non-null   object \n",
      " 2   age                         1000 non-null   int64  \n",
      " 3   no_of_purchases             1000 non-null   int64  \n",
      " 4   amount_spend                1000 non-null   int64  \n",
      " 5   time_spent_on_site          1000 non-null   float64\n",
      " 6   cross_sell_conversion_rate  1000 non-null   float64\n",
      "dtypes: float64(2), int64(3), object(2)\n",
      "memory usage: 54.8+ KB\n"
     ]
    }
   ],
   "source": [
    "df.info()"
   ]
  },
  {
   "cell_type": "markdown",
   "id": "84fc31fc-e10f-4ab8-b3ab-4900e2e714fe",
   "metadata": {},
   "source": [
    "## **Q10**"
   ]
  },
  {
   "cell_type": "code",
   "execution_count": 35,
   "id": "764ab277-1b00-4361-865f-0c33004a6b2a",
   "metadata": {},
   "outputs": [
    {
     "data": {
      "text/html": [
       "<div>\n",
       "<style scoped>\n",
       "    .dataframe tbody tr th:only-of-type {\n",
       "        vertical-align: middle;\n",
       "    }\n",
       "\n",
       "    .dataframe tbody tr th {\n",
       "        vertical-align: top;\n",
       "    }\n",
       "\n",
       "    .dataframe thead th {\n",
       "        text-align: right;\n",
       "    }\n",
       "</style>\n",
       "<table border=\"1\" class=\"dataframe\">\n",
       "  <thead>\n",
       "    <tr style=\"text-align: right;\">\n",
       "      <th></th>\n",
       "      <th>cust_id</th>\n",
       "      <th>gender</th>\n",
       "      <th>age</th>\n",
       "      <th>no_of_purchases</th>\n",
       "      <th>amount_spend</th>\n",
       "      <th>time_spent_on_site</th>\n",
       "      <th>cross_sell_conversion_rate</th>\n",
       "    </tr>\n",
       "  </thead>\n",
       "  <tbody>\n",
       "    <tr>\n",
       "      <th>0</th>\n",
       "      <td>C0001</td>\n",
       "      <td>Male</td>\n",
       "      <td>36</td>\n",
       "      <td>4</td>\n",
       "      <td>400</td>\n",
       "      <td>41.02</td>\n",
       "      <td>0.597870</td>\n",
       "    </tr>\n",
       "    <tr>\n",
       "      <th>1</th>\n",
       "      <td>C0002</td>\n",
       "      <td>Male</td>\n",
       "      <td>42</td>\n",
       "      <td>4</td>\n",
       "      <td>360</td>\n",
       "      <td>49.42</td>\n",
       "      <td>0.087063</td>\n",
       "    </tr>\n",
       "    <tr>\n",
       "      <th>2</th>\n",
       "      <td>C0003</td>\n",
       "      <td>Male</td>\n",
       "      <td>40</td>\n",
       "      <td>2</td>\n",
       "      <td>60</td>\n",
       "      <td>35.78</td>\n",
       "      <td>0.441260</td>\n",
       "    </tr>\n",
       "    <tr>\n",
       "      <th>3</th>\n",
       "      <td>C0004</td>\n",
       "      <td>Female</td>\n",
       "      <td>33</td>\n",
       "      <td>3</td>\n",
       "      <td>240</td>\n",
       "      <td>39.17</td>\n",
       "      <td>0.553303</td>\n",
       "    </tr>\n",
       "    <tr>\n",
       "      <th>4</th>\n",
       "      <td>C0005</td>\n",
       "      <td>Male</td>\n",
       "      <td>24</td>\n",
       "      <td>6</td>\n",
       "      <td>120</td>\n",
       "      <td>63.42</td>\n",
       "      <td>0.860697</td>\n",
       "    </tr>\n",
       "    <tr>\n",
       "      <th>...</th>\n",
       "      <td>...</td>\n",
       "      <td>...</td>\n",
       "      <td>...</td>\n",
       "      <td>...</td>\n",
       "      <td>...</td>\n",
       "      <td>...</td>\n",
       "      <td>...</td>\n",
       "    </tr>\n",
       "    <tr>\n",
       "      <th>995</th>\n",
       "      <td>C0996</td>\n",
       "      <td>Female</td>\n",
       "      <td>32</td>\n",
       "      <td>6</td>\n",
       "      <td>300</td>\n",
       "      <td>60.03</td>\n",
       "      <td>0.696032</td>\n",
       "    </tr>\n",
       "    <tr>\n",
       "      <th>996</th>\n",
       "      <td>C0997</td>\n",
       "      <td>Male</td>\n",
       "      <td>26</td>\n",
       "      <td>3</td>\n",
       "      <td>90</td>\n",
       "      <td>32.89</td>\n",
       "      <td>0.351948</td>\n",
       "    </tr>\n",
       "    <tr>\n",
       "      <th>997</th>\n",
       "      <td>C0998</td>\n",
       "      <td>Male</td>\n",
       "      <td>41</td>\n",
       "      <td>3</td>\n",
       "      <td>90</td>\n",
       "      <td>33.06</td>\n",
       "      <td>0.249554</td>\n",
       "    </tr>\n",
       "    <tr>\n",
       "      <th>998</th>\n",
       "      <td>C0999</td>\n",
       "      <td>Male</td>\n",
       "      <td>35</td>\n",
       "      <td>4</td>\n",
       "      <td>400</td>\n",
       "      <td>44.19</td>\n",
       "      <td>0.418413</td>\n",
       "    </tr>\n",
       "    <tr>\n",
       "      <th>999</th>\n",
       "      <td>C1000</td>\n",
       "      <td>Male</td>\n",
       "      <td>27</td>\n",
       "      <td>5</td>\n",
       "      <td>100</td>\n",
       "      <td>54.68</td>\n",
       "      <td>0.297414</td>\n",
       "    </tr>\n",
       "  </tbody>\n",
       "</table>\n",
       "<p>1000 rows × 7 columns</p>\n",
       "</div>"
      ],
      "text/plain": [
       "    cust_id  gender  age  no_of_purchases  amount_spend  time_spent_on_site  \\\n",
       "0     C0001    Male   36                4           400               41.02   \n",
       "1     C0002    Male   42                4           360               49.42   \n",
       "2     C0003    Male   40                2            60               35.78   \n",
       "3     C0004  Female   33                3           240               39.17   \n",
       "4     C0005    Male   24                6           120               63.42   \n",
       "..      ...     ...  ...              ...           ...                 ...   \n",
       "995   C0996  Female   32                6           300               60.03   \n",
       "996   C0997    Male   26                3            90               32.89   \n",
       "997   C0998    Male   41                3            90               33.06   \n",
       "998   C0999    Male   35                4           400               44.19   \n",
       "999   C1000    Male   27                5           100               54.68   \n",
       "\n",
       "     cross_sell_conversion_rate  \n",
       "0                      0.597870  \n",
       "1                      0.087063  \n",
       "2                      0.441260  \n",
       "3                      0.553303  \n",
       "4                      0.860697  \n",
       "..                          ...  \n",
       "995                    0.696032  \n",
       "996                    0.351948  \n",
       "997                    0.249554  \n",
       "998                    0.418413  \n",
       "999                    0.297414  \n",
       "\n",
       "[1000 rows x 7 columns]"
      ]
     },
     "execution_count": 35,
     "metadata": {},
     "output_type": "execute_result"
    }
   ],
   "source": [
    "df"
   ]
  },
  {
   "cell_type": "code",
   "execution_count": 36,
   "id": "185b0493-b037-47d6-ac57-f72e661639ba",
   "metadata": {},
   "outputs": [
    {
     "data": {
      "text/plain": [
       "0      False\n",
       "1      False\n",
       "2      False\n",
       "3      False\n",
       "4       True\n",
       "       ...  \n",
       "995    False\n",
       "996    False\n",
       "997    False\n",
       "998    False\n",
       "999    False\n",
       "Name: cross_sell_conversion_rate, Length: 1000, dtype: bool"
      ]
     },
     "execution_count": 36,
     "metadata": {},
     "output_type": "execute_result"
    }
   ],
   "source": [
    "high_cross_sell_conversion = df['cross_sell_conversion_rate'] > 0.8\n",
    "high_cross_sell_conversion"
   ]
  },
  {
   "cell_type": "code",
   "execution_count": 41,
   "id": "76dd63f2-26ff-4975-8ee5-1533d1fa453a",
   "metadata": {},
   "outputs": [
    {
     "name": "stdout",
     "output_type": "stream",
     "text": [
      "Probability of customers that have a cross sell conversion rate: 0.135\n"
     ]
    }
   ],
   "source": [
    "P_A = high_cross_sell_conversion.mean()\n",
    "print('Probability of customers that have a cross sell conversion rate:', P_A)"
   ]
  },
  {
   "cell_type": "code",
   "execution_count": 42,
   "id": "dc4106bb-9ce2-49d8-8b88-e6201159fae2",
   "metadata": {},
   "outputs": [
    {
     "data": {
      "text/plain": [
       "0      False\n",
       "1      False\n",
       "2      False\n",
       "3      False\n",
       "4       True\n",
       "       ...  \n",
       "995     True\n",
       "996    False\n",
       "997    False\n",
       "998    False\n",
       "999     True\n",
       "Name: no_of_purchases, Length: 1000, dtype: bool"
      ]
     },
     "execution_count": 42,
     "metadata": {},
     "output_type": "execute_result"
    }
   ],
   "source": [
    "more_than_5_purchases = df['no_of_purchases'] >= 5\n",
    "more_than_5_purchases"
   ]
  },
  {
   "cell_type": "code",
   "execution_count": 43,
   "id": "ae93455a-6e4a-43f3-b2b7-237128ab4a72",
   "metadata": {},
   "outputs": [
    {
     "name": "stdout",
     "output_type": "stream",
     "text": [
      "Probability of a customer making more than 5 purchases: 0.385\n"
     ]
    }
   ],
   "source": [
    "P_B = more_than_5_purchases.mean()\n",
    "print('Probability of a customer making more than 5 purchases:', P_B)"
   ]
  },
  {
   "cell_type": "code",
   "execution_count": 48,
   "id": "b4f9c31e-c987-4e52-8fad-26736fefd85f",
   "metadata": {},
   "outputs": [
    {
     "data": {
      "text/plain": [
       "4       True\n",
       "6       True\n",
       "11     False\n",
       "12      True\n",
       "14     False\n",
       "       ...  \n",
       "990     True\n",
       "991     True\n",
       "992    False\n",
       "995    False\n",
       "999    False\n",
       "Name: cross_sell_conversion_rate, Length: 385, dtype: bool"
      ]
     },
     "execution_count": 48,
     "metadata": {},
     "output_type": "execute_result"
    }
   ],
   "source": [
    "more_than_5 = df[df['no_of_purchases'] >= 5]\n",
    "high_cross_sell_conv_given_more_than_5 = more_than_5['cross_sell_conversion_rate'] > 0.8\n",
    "high_cross_sell_conv_given_more_than_5"
   ]
  },
  {
   "cell_type": "code",
   "execution_count": 51,
   "id": "be2e0ecf-fc08-40ac-b679-9c1ae2f87416",
   "metadata": {},
   "outputs": [
    {
     "name": "stdout",
     "output_type": "stream",
     "text": [
      "Probability of high cross sell converters gieven they make 5 or more purchases: 0.35064935064935066\n"
     ]
    }
   ],
   "source": [
    "P_B_given_A = high_cross_sell_conv_given_more_than_5.mean()\n",
    "print('Probability of high cross sell converters given they make 5 or more purchases:', P_B_given_A)"
   ]
  },
  {
   "cell_type": "code",
   "execution_count": 53,
   "id": "1ff75d62-87e0-4db0-b2ef-2b7c05776ceb",
   "metadata": {},
   "outputs": [
    {
     "name": "stdout",
     "output_type": "stream",
     "text": [
      "Probability that a customer who makes 5 or more purchases in a month will have a high cross-sell conversion rate (greater than 80%): 0.351\n"
     ]
    }
   ],
   "source": [
    "P_A_given_B = (P_B_given_A * P_A) / P_B\n",
    "print('Probability that a customer who makes 5 or more purchases in a month will have a high cross-sell conversion rate (greater than 80%):', np.round(P_B_given_A,3))"
   ]
  },
  {
   "cell_type": "code",
   "execution_count": null,
   "id": "fb52a2d4-2207-47aa-b98b-302a6be3921b",
   "metadata": {},
   "outputs": [],
   "source": []
  },
  {
   "cell_type": "code",
   "execution_count": null,
   "id": "eb9f293e-2d4c-45dd-a0a4-b3b58d1b6d82",
   "metadata": {},
   "outputs": [],
   "source": []
  }
 ],
 "metadata": {
  "kernelspec": {
   "display_name": "Python 3 (ipykernel)",
   "language": "python",
   "name": "python3"
  },
  "language_info": {
   "codemirror_mode": {
    "name": "ipython",
    "version": 3
   },
   "file_extension": ".py",
   "mimetype": "text/x-python",
   "name": "python",
   "nbconvert_exporter": "python",
   "pygments_lexer": "ipython3",
   "version": "3.12.7"
  }
 },
 "nbformat": 4,
 "nbformat_minor": 5
}
